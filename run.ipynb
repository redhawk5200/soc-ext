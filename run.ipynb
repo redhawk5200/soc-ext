{
 "cells": [
  {
   "cell_type": "code",
   "execution_count": null,
   "metadata": {},
   "outputs": [],
   "source": [
    "%pip install backoff"
   ]
  },
  {
   "cell_type": "code",
   "execution_count": null,
   "metadata": {},
   "outputs": [],
   "source": [
    "import asyncio\n",
    "import nest_asyncio\n",
    "from soc_w_db import ProcessSOC \n",
    "\n",
    "nest_asyncio.apply()\n",
    "\n",
    "pdf_path = \"Equiniti Trust Transfer Agent 2023 SOC 1 Type 2 Report_Oct 1 2022 to Sept 30 2023.pdf\"  # Replace with your actual PDF file path\n",
    "with open(pdf_path, \"rb\") as pdf_file:\n",
    "    pdf_bytes = pdf_file.read()  \n",
    "soc_processor = ProcessSOC()\n",
    "\n",
    "async def main():\n",
    "    \"\"\"Run the async function properly.\"\"\"\n",
    "    \n",
    "    await soc_processor(user_id=\"12345\", kb_doc_id=\"67890\", pdf_bytes=pdf_bytes)\n",
    "    \n",
    "\n",
    "asyncio.run(main())"
   ]
  },
  {
   "cell_type": "code",
   "execution_count": null,
   "metadata": {},
   "outputs": [],
   "source": []
  }
 ],
 "metadata": {
  "kernelspec": {
   "display_name": "Python 3",
   "language": "python",
   "name": "python3"
  },
  "language_info": {
   "codemirror_mode": {
    "name": "ipython",
    "version": 3
   },
   "file_extension": ".py",
   "mimetype": "text/x-python",
   "name": "python",
   "nbconvert_exporter": "python",
   "pygments_lexer": "ipython3",
   "version": "3.13.0"
  }
 },
 "nbformat": 4,
 "nbformat_minor": 2
}
